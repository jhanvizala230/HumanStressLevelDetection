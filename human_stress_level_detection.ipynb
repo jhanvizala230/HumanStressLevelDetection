{
 "cells": [
  {
   "cell_type": "code",
   "execution_count": 1,
   "id": "b021fc0d",
   "metadata": {},
   "outputs": [
    {
     "name": "stdout",
     "output_type": "stream",
     "text": [
      "2.7.0\n"
     ]
    }
   ],
   "source": [
    "import pandas as pd\n",
    "import tensorflow as tf\n",
    "import numpy as np\n",
    "from sklearn.model_selection import train_test_split\n",
    "import matplotlib\n",
    "from sklearn.preprocessing import normalize\n",
    "import matplotlib.pyplot as plt\n",
    "\n",
    "print(tf.__version__)\n"
   ]
  },
  {
   "cell_type": "code",
   "execution_count": 2,
   "id": "88ed8fb1",
   "metadata": {},
   "outputs": [],
   "source": [
    "# get X and Y\n",
    "# snoring range of the user, respiration rate, body temperature, limb movement rate, blood oxygen levels, eye movement, number of hours of sleep, heart rate and Stress Levels (0- low/normal, 1 – medium low, 2- medium, 3-medium high, 4 -high)\n",
    "data_setframe = pd.read_csv(filepath_or_buffer=\"./human_stresslevel_data/SaYoPillow.csv\",header=[0,1,2,3,4,5,6,7,8])\n",
    "\n",
    "# rename column name\n",
    "data_setframe.columns = ['snoring_rate','respiration_rate','temperature','limb_movement','blood_oxygen','eye_movement','sleeping_hour','heart_rate','stress_level']\n",
    "\n",
    "# get X and Y\n",
    "X_data = data_setframe[['snoring_rate','respiration_rate','temperature','limb_movement','blood_oxygen','eye_movement','sleeping_hour','heart_rate']]\n",
    "Y_data = data_setframe[['stress_level']]\n"
   ]
  },
  {
   "cell_type": "code",
   "execution_count": 3,
   "id": "400953fc",
   "metadata": {},
   "outputs": [],
   "source": [
    "#normalizse\n",
    "X_data = normalize(X_data,norm='l2')"
   ]
  },
  {
   "cell_type": "code",
   "execution_count": 4,
   "id": "abea8220",
   "metadata": {},
   "outputs": [
    {
     "name": "stderr",
     "output_type": "stream",
     "text": [
      "2022-05-01 13:52:40.243853: I tensorflow/core/platform/cpu_feature_guard.cc:151] This TensorFlow binary is optimized with oneAPI Deep Neural Network Library (oneDNN) to use the following CPU instructions in performance-critical operations:  SSE4.1 SSE4.2 AVX AVX2 FMA\n",
      "To enable them in other operations, rebuild TensorFlow with the appropriate compiler flags.\n"
     ]
    }
   ],
   "source": [
    "# split training and test set\n",
    "x_train,x_test,y_train,y_test = train_test_split(X_data,Y_data,test_size=0.2,random_state=1)\n",
    "\n",
    "x_train = tf.convert_to_tensor(x_train,dtype=tf.float32)\n",
    "x_test = tf.convert_to_tensor(x_test,dtype=tf.float32)\n"
   ]
  },
  {
   "cell_type": "code",
   "execution_count": 5,
   "id": "0bf680ac",
   "metadata": {},
   "outputs": [],
   "source": [
    "# one hot matrix\n",
    "def oneHotMatrix(labels,depth):\n",
    "    one_hot = tf.one_hot(labels,depth,on_value = 1.0, off_value = 0.0,axis=1)\n",
    "    one_hot = one_hot[0,:,:]\n",
    "    return one_hot\n",
    "    "
   ]
  },
  {
   "cell_type": "code",
   "execution_count": 6,
   "id": "d46fa2b0",
   "metadata": {},
   "outputs": [],
   "source": [
    "# initialize parameter\n",
    "def initializeParameters():\n",
    "    initializer = tf.keras.initializers.GlorotNormal(seed=1)\n",
    "    \n",
    "    parameters = {}\n",
    "    parameters['W1'] = tf.Variable(initializer(shape=(4,8)))\n",
    "    parameters['b1'] = tf.Variable(initializer(shape=(4,1)))\n",
    "    parameters['W2'] = tf.Variable(initializer(shape=(4,4)))\n",
    "    parameters['b2'] = tf.Variable(initializer(shape=(4,1)))\n",
    "    parameters['W3'] = tf.Variable(initializer(shape=(6,4)))\n",
    "    parameters['b3'] = tf.Variable(initializer(shape=(6,1)))\n",
    "    parameters['W4'] = tf.Variable(initializer(shape=(5,6)))\n",
    "    parameters['b4'] = tf.Variable(initializer(shape=(5,1)))\n",
    "        \n",
    "    return parameters"
   ]
  },
  {
   "cell_type": "code",
   "execution_count": 7,
   "id": "c183b496",
   "metadata": {},
   "outputs": [],
   "source": [
    "# forward propagation\n",
    "def forwardPropagation(parameters,x_input):\n",
    "    W1 = parameters['W1']\n",
    "    b1 = parameters['b1']\n",
    "    W2 = parameters['W2']\n",
    "    b2 = parameters['b2']\n",
    "    W3 = parameters['W3']\n",
    "    b3 = parameters['b3']\n",
    "    W4 = parameters['W4']\n",
    "    b4 = parameters['b4']\n",
    "    \n",
    "    # Linera -> Relu -> Linear -> relu\n",
    "    Z1 = tf.math.add(tf.linalg.matmul(W1,x_input),b1)\n",
    "    A1 = tf.keras.activations.relu(Z1)\n",
    "    Z2 = tf.math.add(tf.linalg.matmul(W2,A1),b2)\n",
    "    A2 = tf.keras.activations.relu(Z2)\n",
    "    Z3 = tf.math.add(tf.linalg.matmul(W3,A2),b3)\n",
    "    A3 = tf.keras.activations.relu(Z3)\n",
    "    Z4 = tf.math.add(tf.linalg.matmul(W4,A3),b4)\n",
    "    \n",
    "    return Z4"
   ]
  },
  {
   "cell_type": "code",
   "execution_count": 8,
   "id": "6a3a0b6b",
   "metadata": {},
   "outputs": [],
   "source": [
    "# cost function categarical cross entropy (softmax and one hot encoded matrix)\n",
    "def costFucntion(logits,labels):\n",
    "    cost = tf.math.reduce_mean(tf.keras.metrics.categorical_crossentropy(tf.transpose(labels),tf.transpose(logits), from_logits= True))\n",
    "    \n",
    "    return cost\n",
    "        "
   ]
  },
  {
   "cell_type": "code",
   "execution_count": 9,
   "id": "2372ea08",
   "metadata": {},
   "outputs": [],
   "source": [
    "# create minibatch (only for reference not used in this code)\n",
    "def minibatch(batch_size,zipped_data):\n",
    "    \n",
    "    minibatch = []\n",
    "    start_value = 0\n",
    "    zipped_data= list(zipped_data)\n",
    "    total_samples = len(list(zipped_data))\n",
    "    x,y = zip(*zipped_data)\n",
    "    input_batch = []\n",
    "    output_batch = []\n",
    "    while batch_size <= total_samples:\n",
    "        input_batch.append(x[start_value:batch_size])\n",
    "        output_batch.append(y[start_value:batch_size])\n",
    "        start_value = batch_size\n",
    "        batch_size = batch_size + batch_size \n",
    "    \n",
    "    if batch_size < total_samples:\n",
    "        batch_size = batch_size + total_samples-batch_size\n",
    "        minibatch.append(zip(x[start_value:batch_size],y[start_value:batch_size]))\n",
    "    \n",
    "    minibatch = zip(input_batch,output_batch)\n",
    "    \n",
    "    return minibatch\n"
   ]
  },
  {
   "cell_type": "code",
   "execution_count": 10,
   "id": "e804e4c9",
   "metadata": {},
   "outputs": [],
   "source": [
    "# define stochastic gradient descent model\n",
    "def model(learning_rate,epochs,train_input,train_output,test_input,test_output,minibatch_size):\n",
    "    \n",
    "    parameters = initializeParameters()\n",
    "    W1 = parameters['W1']\n",
    "    b1 = parameters['b1']\n",
    "    W2 = parameters['W2']\n",
    "    b2 = parameters['b2']\n",
    "    W3 = parameters['W3']\n",
    "    b3 = parameters['b3']\n",
    "    W4 = parameters['W4']\n",
    "    b4 = parameters['b4']\n",
    "    \n",
    "    \n",
    "    train_samples,_ = train_input.shape\n",
    "    test_samples,_ = test_input.shape\n",
    "    \n",
    "    adam_optimizer = tf.keras.optimizers.Adam(learning_rate=learning_rate)\n",
    "\n",
    "    # The CategoricalAccuracy will track the accuracy for this multiclass problem\n",
    "    train_accuracy = tf.keras.metrics.CategoricalAccuracy()\n",
    "    test_accuracy = tf.keras.metrics.CategoricalAccuracy()\n",
    "    \n",
    "    train_output = tf.transpose(oneHotMatrix(tf.transpose(train_output),depth=5))\n",
    "    test_output = tf.transpose(oneHotMatrix(tf.transpose(test_output),depth=5))\n",
    "    \n",
    "\n",
    "    train_accuracy_array = []\n",
    "    test_accuracy_array = []\n",
    "    train_cost = []\n",
    "    \n",
    "    # traing for data set for given number of epoch \n",
    "    for epoch in range(0,epochs):\n",
    "        \n",
    "        train_accuracy.reset_states()\n",
    "        with tf.GradientTape() as tape:\n",
    "\n",
    "            # predict\n",
    "            Z4 = forwardPropagation(parameters,tf.transpose(train_input))\n",
    "\n",
    "            # cost\n",
    "            train_epoch_cost =  costFucntion(Z4,tf.transpose(train_output))\n",
    "\n",
    "        #accuracy\n",
    "        train_accuracy.update_state(tf.transpose(Z4),train_output)\n",
    "\n",
    "        #parameters\n",
    "        trainable_parameters =  [W1,b1,W2,b2,W3,b3,W4,b4]\n",
    "        # gradients\n",
    "        grads = tape.gradient(train_epoch_cost,trainable_parameters)\n",
    "        # optimize\n",
    "        adam_optimizer.apply_gradients(zip(grads,trainable_parameters))\n",
    "\n",
    "        train_cost.append(train_epoch_cost)\n",
    "        train_accuracy_array.append(train_accuracy.result())\n",
    "\n",
    "        if epoch % 10 == 0 :\n",
    "            print(f\"Epoch : {epoch}\")\n",
    "\n",
    "            print(f'Cost : {train_epoch_cost}, Training accuracy : {train_accuracy.result()}')\n",
    "            \n",
    "            test_accuracy.reset_states()\n",
    "            #calculate test accuracy\n",
    "            test_Z4 = forwardPropagation(parameters,tf.transpose(test_input))\n",
    "            test_accuracy.update_state(tf.transpose(test_Z4),test_output)\n",
    "            test_accuracy_array.append(test_accuracy.result())\n",
    "            print(f'Test accuracy : {test_accuracy.result()}')\n",
    "    \n",
    "    return parameters,train_cost,train_accuracy_array,test_accuracy_array"
   ]
  },
  {
   "cell_type": "code",
   "execution_count": 11,
   "id": "01656ad7",
   "metadata": {},
   "outputs": [
    {
     "name": "stdout",
     "output_type": "stream",
     "text": [
      "Epoch : 0\n",
      "Cost : 1.7153406143188477, Training accuracy : 0.2012072503566742\n",
      "Test accuracy : 0.20800000429153442\n",
      "Epoch : 10\n",
      "Cost : 1.611415982246399, Training accuracy : 0.2012072503566742\n",
      "Test accuracy : 0.20800000429153442\n",
      "Epoch : 20\n",
      "Cost : 1.5746420621871948, Training accuracy : 0.20321930944919586\n",
      "Test accuracy : 0.17599999904632568\n",
      "Epoch : 30\n",
      "Cost : 1.5441125631332397, Training accuracy : 0.3661971688270569\n",
      "Test accuracy : 0.3440000116825104\n",
      "Epoch : 40\n",
      "Cost : 1.496460199356079, Training accuracy : 0.40442654490470886\n",
      "Test accuracy : 0.36000001430511475\n",
      "Epoch : 50\n",
      "Cost : 1.419928789138794, Training accuracy : 0.4245472848415375\n",
      "Test accuracy : 0.3840000033378601\n",
      "Epoch : 60\n",
      "Cost : 1.314367651939392, Training accuracy : 0.44668006896972656\n",
      "Test accuracy : 0.4399999976158142\n",
      "Epoch : 70\n",
      "Cost : 1.1844265460968018, Training accuracy : 0.48893359303474426\n",
      "Test accuracy : 0.42399999499320984\n",
      "Epoch : 80\n",
      "Cost : 1.068603515625, Training accuracy : 0.5130784511566162\n",
      "Test accuracy : 0.4880000054836273\n",
      "Epoch : 90\n",
      "Cost : 0.9422248601913452, Training accuracy : 0.635814905166626\n",
      "Test accuracy : 0.671999990940094\n",
      "Epoch : 100\n",
      "Cost : 0.7902177572250366, Training accuracy : 0.8893359899520874\n",
      "Test accuracy : 0.8640000224113464\n",
      "Epoch : 110\n",
      "Cost : 0.6430891752243042, Training accuracy : 0.8591549396514893\n",
      "Test accuracy : 0.8880000114440918\n",
      "Epoch : 120\n",
      "Cost : 0.5023255348205566, Training accuracy : 0.9738430380821228\n",
      "Test accuracy : 0.984000027179718\n",
      "Epoch : 130\n",
      "Cost : 0.36789974570274353, Training accuracy : 1.0\n",
      "Test accuracy : 1.0\n",
      "Epoch : 140\n",
      "Cost : 0.2544134557247162, Training accuracy : 1.0\n",
      "Test accuracy : 1.0\n"
     ]
    }
   ],
   "source": [
    "parameters,train_cost, train_accuracy_array,test_accuracy_array = model(learning_rate=0.01,epochs=150,train_input=x_train,train_output=y_train,test_input=x_test,test_output=y_test,minibatch_size =5)"
   ]
  },
  {
   "cell_type": "code",
   "execution_count": 12,
   "id": "d4b8e1ec",
   "metadata": {},
   "outputs": [],
   "source": [
    "# print(f'parameters {parameters}')"
   ]
  },
  {
   "cell_type": "code",
   "execution_count": 13,
   "id": "f1076b3d",
   "metadata": {},
   "outputs": [
    {
     "data": {
      "image/png": "[encoded data removed]",
      "text/plain": [
       "<Figure size 432x288 with 1 Axes>"
      ]
     },
     "metadata": {
      "needs_background": "light"
     },
     "output_type": "display_data"
    },
    {
     "data": {
      "image/png": "[encoded data removed]",
      "text/plain": [
       "<Figure size 432x288 with 1 Axes>"
      ]
     },
     "metadata": {
      "needs_background": "light"
     },
     "output_type": "display_data"
    }
   ],
   "source": [
    "plt.plot(np.squeeze(train_cost))\n",
    "plt.ylabel('train_cost')\n",
    "plt.xlabel('iterations (per 100)')\n",
    "plt.title(\"Learning rate =\" + str(0.01))\n",
    "plt.show()\n",
    "\n",
    "plt.plot(np.squeeze(train_accuracy_array))\n",
    "plt.ylabel('train_accuracy')\n",
    "plt.xlabel('iterations (per 100)')\n",
    "plt.title(\"Learning rate =\" + str(0.01))\n",
    "plt.show()"
   ]
  },
  {
   "cell_type": "code",
   "execution_count": 14,
   "id": "9bd5a97f",
   "metadata": {},
   "outputs": [
    {
     "data": {
      "image/png": "[encoded data removed]",
      "text/plain": [
       "<Figure size 432x288 with 1 Axes>"
      ]
     },
     "metadata": {
      "needs_background": "light"
     },
     "output_type": "display_data"
    }
   ],
   "source": [
    "# Plot the graph fortrain accuracy\n",
    "plt.plot(np.squeeze(test_accuracy_array))\n",
    "plt.ylabel('Testtrain_output Accuracy')\n",
    "plt.xlabel('iterations (per 100)')\n",
    "plt.title(\"Learning rate =\" + str(0.1))\n",
    "plt.show()"
   ]
  },
  {
   "cell_type": "code",
   "execution_count": null,
   "id": "ad5bb4ac",
   "metadata": {},
   "outputs": [],
   "source": []
  }
 ],
 "metadata": {
  "kernelspec": {
   "display_name": "Python 3 (ipykernel)",
   "language": "python",
   "name": "python3"
  },
  "language_info": {
   "codemirror_mode": {
    "name": "ipython",
    "version": 3
   },
   "file_extension": ".py",
   "mimetype": "text/x-python",
   "name": "python",
   "nbconvert_exporter": "python",
   "pygments_lexer": "ipython3",
   "version": "3.9.7"
  }
 },
 "nbformat": 4,
 "nbformat_minor": 5
}
